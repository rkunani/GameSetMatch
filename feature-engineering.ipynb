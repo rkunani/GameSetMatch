{
 "cells": [
  {
   "cell_type": "code",
   "execution_count": 1,
   "metadata": {},
   "outputs": [],
   "source": [
    "import pandas as pd\n",
    "import numpy as np\n",
    "import matplotlib.pyplot as plt\n",
    "import seaborn as sns\n",
    "from pathlib import Path\n",
    "import re\n",
    "\n",
    "%matplotlib inline\n",
    "plt.rcParams['figure.figsize'] = (16,8)\n",
    "plt.rcParams['figure.dpi'] = 150"
   ]
  },
  {
   "cell_type": "markdown",
   "metadata": {},
   "source": [
    "# Loading in the Data"
   ]
  },
  {
   "cell_type": "markdown",
   "metadata": {},
   "source": [
    "We saved the cleaned data to a file in the `data-cleaning` notebook, so let's load that data in."
   ]
  },
  {
   "cell_type": "code",
   "execution_count": 2,
   "metadata": {},
   "outputs": [],
   "source": [
    "data_file = Path(\"./data\", \"cleaned_data.hdf\")\n",
    "match_2018_train_df = pd.read_hdf(data_file, \"train\")"
   ]
  },
  {
   "cell_type": "code",
   "execution_count": 3,
   "metadata": {},
   "outputs": [
    {
     "data": {
      "text/html": [
       "<div>\n",
       "<style scoped>\n",
       "    .dataframe tbody tr th:only-of-type {\n",
       "        vertical-align: middle;\n",
       "    }\n",
       "\n",
       "    .dataframe tbody tr th {\n",
       "        vertical-align: top;\n",
       "    }\n",
       "\n",
       "    .dataframe thead th {\n",
       "        text-align: right;\n",
       "    }\n",
       "</style>\n",
       "<table border=\"1\" class=\"dataframe\">\n",
       "  <thead>\n",
       "    <tr style=\"text-align: right;\">\n",
       "      <th></th>\n",
       "      <th>tourney_id</th>\n",
       "      <th>tourney_name</th>\n",
       "      <th>surface</th>\n",
       "      <th>draw_size</th>\n",
       "      <th>tourney_level</th>\n",
       "      <th>tourney_date</th>\n",
       "      <th>match_num</th>\n",
       "      <th>winner_id</th>\n",
       "      <th>winner_name</th>\n",
       "      <th>winner_hand</th>\n",
       "      <th>...</th>\n",
       "      <th>w_bpFaced</th>\n",
       "      <th>l_ace</th>\n",
       "      <th>l_df</th>\n",
       "      <th>l_svpt</th>\n",
       "      <th>l_1stIn</th>\n",
       "      <th>l_1stWon</th>\n",
       "      <th>l_2ndWon</th>\n",
       "      <th>l_SvGms</th>\n",
       "      <th>l_bpSaved</th>\n",
       "      <th>l_bpFaced</th>\n",
       "    </tr>\n",
       "  </thead>\n",
       "  <tbody>\n",
       "    <tr>\n",
       "      <th>547</th>\n",
       "      <td>2018-M004</td>\n",
       "      <td>Acapulco</td>\n",
       "      <td>Hard</td>\n",
       "      <td>32</td>\n",
       "      <td>A</td>\n",
       "      <td>2018-02-26</td>\n",
       "      <td>274</td>\n",
       "      <td>106233</td>\n",
       "      <td>Dominic Thiem</td>\n",
       "      <td>R</td>\n",
       "      <td>...</td>\n",
       "      <td>3.0</td>\n",
       "      <td>4.0</td>\n",
       "      <td>4.0</td>\n",
       "      <td>113.0</td>\n",
       "      <td>68.0</td>\n",
       "      <td>46.0</td>\n",
       "      <td>24.0</td>\n",
       "      <td>16.0</td>\n",
       "      <td>8.0</td>\n",
       "      <td>11.0</td>\n",
       "    </tr>\n",
       "    <tr>\n",
       "      <th>2117</th>\n",
       "      <td>2018-560</td>\n",
       "      <td>Us Open</td>\n",
       "      <td>Hard</td>\n",
       "      <td>128</td>\n",
       "      <td>G</td>\n",
       "      <td>2018-08-27</td>\n",
       "      <td>137</td>\n",
       "      <td>105526</td>\n",
       "      <td>Jan Lennard Struff</td>\n",
       "      <td>R</td>\n",
       "      <td>...</td>\n",
       "      <td>4.0</td>\n",
       "      <td>14.0</td>\n",
       "      <td>11.0</td>\n",
       "      <td>123.0</td>\n",
       "      <td>64.0</td>\n",
       "      <td>45.0</td>\n",
       "      <td>31.0</td>\n",
       "      <td>0.0</td>\n",
       "      <td>16.0</td>\n",
       "      <td>19.0</td>\n",
       "    </tr>\n",
       "    <tr>\n",
       "      <th>1705</th>\n",
       "      <td>2018-0315</td>\n",
       "      <td>Newport</td>\n",
       "      <td>Grass</td>\n",
       "      <td>32</td>\n",
       "      <td>A</td>\n",
       "      <td>2018-07-16</td>\n",
       "      <td>276</td>\n",
       "      <td>105359</td>\n",
       "      <td>Jason Jung</td>\n",
       "      <td>R</td>\n",
       "      <td>...</td>\n",
       "      <td>7.0</td>\n",
       "      <td>6.0</td>\n",
       "      <td>2.0</td>\n",
       "      <td>78.0</td>\n",
       "      <td>49.0</td>\n",
       "      <td>37.0</td>\n",
       "      <td>12.0</td>\n",
       "      <td>14.0</td>\n",
       "      <td>1.0</td>\n",
       "      <td>4.0</td>\n",
       "    </tr>\n",
       "    <tr>\n",
       "      <th>2247</th>\n",
       "      <td>2018-0568</td>\n",
       "      <td>St. Petersburg</td>\n",
       "      <td>Hard</td>\n",
       "      <td>32</td>\n",
       "      <td>A</td>\n",
       "      <td>2018-09-17</td>\n",
       "      <td>287</td>\n",
       "      <td>133430</td>\n",
       "      <td>Denis Shapovalov</td>\n",
       "      <td>L</td>\n",
       "      <td>...</td>\n",
       "      <td>1.0</td>\n",
       "      <td>7.0</td>\n",
       "      <td>3.0</td>\n",
       "      <td>111.0</td>\n",
       "      <td>73.0</td>\n",
       "      <td>46.0</td>\n",
       "      <td>19.0</td>\n",
       "      <td>14.0</td>\n",
       "      <td>5.0</td>\n",
       "      <td>8.0</td>\n",
       "    </tr>\n",
       "    <tr>\n",
       "      <th>2152</th>\n",
       "      <td>2018-560</td>\n",
       "      <td>Us Open</td>\n",
       "      <td>Hard</td>\n",
       "      <td>128</td>\n",
       "      <td>G</td>\n",
       "      <td>2018-08-27</td>\n",
       "      <td>172</td>\n",
       "      <td>105223</td>\n",
       "      <td>Juan Martin Del Potro</td>\n",
       "      <td>R</td>\n",
       "      <td>...</td>\n",
       "      <td>0.0</td>\n",
       "      <td>11.0</td>\n",
       "      <td>6.0</td>\n",
       "      <td>86.0</td>\n",
       "      <td>44.0</td>\n",
       "      <td>32.0</td>\n",
       "      <td>19.0</td>\n",
       "      <td>14.0</td>\n",
       "      <td>5.0</td>\n",
       "      <td>9.0</td>\n",
       "    </tr>\n",
       "  </tbody>\n",
       "</table>\n",
       "<p>5 rows × 43 columns</p>\n",
       "</div>"
      ],
      "text/plain": [
       "     tourney_id    tourney_name surface  draw_size tourney_level tourney_date  \\\n",
       "547   2018-M004        Acapulco    Hard         32             A   2018-02-26   \n",
       "2117   2018-560         Us Open    Hard        128             G   2018-08-27   \n",
       "1705  2018-0315         Newport   Grass         32             A   2018-07-16   \n",
       "2247  2018-0568  St. Petersburg    Hard         32             A   2018-09-17   \n",
       "2152   2018-560         Us Open    Hard        128             G   2018-08-27   \n",
       "\n",
       "      match_num  winner_id            winner_name winner_hand    ...      \\\n",
       "547         274     106233          Dominic Thiem           R    ...       \n",
       "2117        137     105526     Jan Lennard Struff           R    ...       \n",
       "1705        276     105359             Jason Jung           R    ...       \n",
       "2247        287     133430       Denis Shapovalov           L    ...       \n",
       "2152        172     105223  Juan Martin Del Potro           R    ...       \n",
       "\n",
       "     w_bpFaced  l_ace  l_df  l_svpt  l_1stIn l_1stWon l_2ndWon l_SvGms  \\\n",
       "547        3.0    4.0   4.0   113.0     68.0     46.0     24.0    16.0   \n",
       "2117       4.0   14.0  11.0   123.0     64.0     45.0     31.0     0.0   \n",
       "1705       7.0    6.0   2.0    78.0     49.0     37.0     12.0    14.0   \n",
       "2247       1.0    7.0   3.0   111.0     73.0     46.0     19.0    14.0   \n",
       "2152       0.0   11.0   6.0    86.0     44.0     32.0     19.0    14.0   \n",
       "\n",
       "      l_bpSaved  l_bpFaced  \n",
       "547         8.0       11.0  \n",
       "2117       16.0       19.0  \n",
       "1705        1.0        4.0  \n",
       "2247        5.0        8.0  \n",
       "2152        5.0        9.0  \n",
       "\n",
       "[5 rows x 43 columns]"
      ]
     },
     "execution_count": 3,
     "metadata": {},
     "output_type": "execute_result"
    }
   ],
   "source": [
    "match_2018_train_df.head()"
   ]
  },
  {
   "cell_type": "markdown",
   "metadata": {},
   "source": [
    "# Feature Selection / Engineering Part 1"
   ]
  },
  {
   "cell_type": "markdown",
   "metadata": {},
   "source": [
    "Since we know both the winner's and loser's match information for each match, we can visualize their distributions to identify which features are strong in determining the winner of a match."
   ]
  },
  {
   "cell_type": "markdown",
   "metadata": {},
   "source": [
    "To standardize the match statistics, I convert them to percentages."
   ]
  },
  {
   "cell_type": "code",
   "execution_count": 4,
   "metadata": {},
   "outputs": [],
   "source": [
    "def convert_match_stats_to_percent(data):\n",
    "    data['w_ace%'] = data['w_ace'] / data['w_svpt']\n",
    "    data['l_ace%'] = data['l_ace'] / data['l_svpt']\n",
    "    \n",
    "    data['w_df%'] = data['w_df'] / data['w_svpt']\n",
    "    data['l_df%'] = data['l_df'] / data['l_svpt']\n",
    "    \n",
    "    data['w_1stIn%'] = data['w_1stIn'] / data['w_svpt']\n",
    "    data['l_1stIn%'] = data['l_1stIn'] / data['l_svpt']\n",
    "    \n",
    "    data['w_1stWon%'] = data['w_1stWon'] / data['w_1stIn']\n",
    "    data['l_1stWon%'] = data['l_1stWon'] / data['l_1stIn']\n",
    "    \n",
    "    data['w_2ndWon%'] = data['w_2ndWon'] / (data['w_svpt'] - data['w_1stIn'])\n",
    "    data['l_2ndWon%'] = data['l_2ndWon'] / (data['l_svpt'] - data['l_1stIn'])\n",
    "    \n",
    "    data['w_bpSaved%'] = data['w_bpSaved'] / data['w_bpFaced']\n",
    "    data['l_bpSaved%'] = data['l_bpSaved'] / data['l_bpFaced']\n",
    "    \n",
    "    data['w_bpFaced%'] = data['w_bpFaced'] / data['w_svpt']\n",
    "    data['l_bpFaced%'] = data['l_bpFaced'] / data['l_svpt']\n",
    "\n",
    "convert_match_stats_to_percent(match_2018_train_df)"
   ]
  },
  {
   "cell_type": "code",
   "execution_count": 5,
   "metadata": {},
   "outputs": [],
   "source": [
    "assert match_2018_train_df['w_ace%'].max() <= 1 and match_2018_train_df['w_ace%'].min() >= 0\n",
    "assert match_2018_train_df['l_ace%'].max() <= 1 and match_2018_train_df['l_ace%'].min() >= 0\n",
    "assert match_2018_train_df['w_df%'].max() <= 1 and match_2018_train_df['w_df%'].min() >= 0\n",
    "assert match_2018_train_df['l_df%'].max() <= 1 and match_2018_train_df['l_df%'].min() >= 0\n",
    "assert match_2018_train_df['w_1stIn%'].max() <= 1 and match_2018_train_df['w_1stIn%'].min() >= 0\n",
    "assert match_2018_train_df['l_1stIn%'].max() <= 1 and match_2018_train_df['l_1stIn%'].min() >= 0\n",
    "assert match_2018_train_df['w_1stWon%'].max() <= 1 and match_2018_train_df['w_1stWon%'].min() >= 0\n",
    "assert match_2018_train_df['l_1stWon%'].max() <= 1 and match_2018_train_df['l_1stWon%'].min() >= 0\n",
    "assert match_2018_train_df['w_2ndWon%'].max() <= 1 and match_2018_train_df['w_2ndWon%'].min() >= 0\n",
    "assert match_2018_train_df['l_2ndWon%'].max() <= 1 and match_2018_train_df['l_2ndWon%'].min() >= 0\n",
    "assert match_2018_train_df['w_bpSaved%'].max() <= 1 and match_2018_train_df['w_bpSaved%'].min() >= 0\n",
    "assert match_2018_train_df['l_bpSaved%'].max() <= 1 and match_2018_train_df['l_bpSaved%'].min() >= 0\n",
    "assert match_2018_train_df['w_bpFaced%'].max() <= 1 and match_2018_train_df['w_bpFaced%'].min() >= 0\n",
    "assert match_2018_train_df['l_bpFaced%'].max() <= 1 and match_2018_train_df['l_bpFaced%'].min() >= 0"
   ]
  },
  {
   "cell_type": "code",
   "execution_count": 6,
   "metadata": {},
   "outputs": [],
   "source": [
    "def plot_dist(winner_col_name, loser_col_name, stat_name):\n",
    "    sns.distplot(match_2018_train_df[winner_col_name], hist=False, label=f\"{stat_name} for winner\")\n",
    "    sns.distplot(match_2018_train_df[loser_col_name], hist=False, label=f\"{stat_name} for loser\")\n",
    "    plt.title(f\"Distribution of {stat_name}\")\n",
    "    plt.xlabel(f\"{stat_name}\")\n",
    "    plt.legend()"
   ]
  },
  {
   "cell_type": "code",
   "execution_count": 7,
   "metadata": {},
   "outputs": [
    {
     "name": "stderr",
     "output_type": "stream",
     "text": [
      "/Users/raguvirkunani/anaconda3/lib/python3.7/site-packages/scipy/stats/stats.py:1713: FutureWarning: Using a non-tuple sequence for multidimensional indexing is deprecated; use `arr[tuple(seq)]` instead of `arr[seq]`. In the future this will be interpreted as an array index, `arr[np.array(seq)]`, which will result either in an error or a different result.\n",
      "  return np.add.reduce(sorted[indexer] * weights, axis=axis) / sumval\n"
     ]
    },
    {
     "data": {
      "image/png": "[encoded data removed]",
      "text/plain": [
       "<Figure size 432x288 with 1 Axes>"
      ]
     },
     "metadata": {
      "needs_background": "light"
     },
     "output_type": "display_data"
    }
   ],
   "source": [
    "plot_dist('w_ace%', 'l_ace%', '% aces')"
   ]
  },
  {
   "cell_type": "code",
   "execution_count": 8,
   "metadata": {},
   "outputs": [
    {
     "name": "stderr",
     "output_type": "stream",
     "text": [
      "/Users/raguvirkunani/anaconda3/lib/python3.7/site-packages/scipy/stats/stats.py:1713: FutureWarning: Using a non-tuple sequence for multidimensional indexing is deprecated; use `arr[tuple(seq)]` instead of `arr[seq]`. In the future this will be interpreted as an array index, `arr[np.array(seq)]`, which will result either in an error or a different result.\n",
      "  return np.add.reduce(sorted[indexer] * weights, axis=axis) / sumval\n"
     ]
    },
    {
     "data": {
      "image/png": "[encoded data removed]",
      "text/plain": [
       "<Figure size 432x288 with 1 Axes>"
      ]
     },
     "metadata": {
      "needs_background": "light"
     },
     "output_type": "display_data"
    }
   ],
   "source": [
    "plot_dist('w_df%', 'l_df%', '% double faults')"
   ]
  },
  {
   "cell_type": "code",
   "execution_count": 9,
   "metadata": {},
   "outputs": [
    {
     "name": "stderr",
     "output_type": "stream",
     "text": [
      "/Users/raguvirkunani/anaconda3/lib/python3.7/site-packages/scipy/stats/stats.py:1713: FutureWarning: Using a non-tuple sequence for multidimensional indexing is deprecated; use `arr[tuple(seq)]` instead of `arr[seq]`. In the future this will be interpreted as an array index, `arr[np.array(seq)]`, which will result either in an error or a different result.\n",
      "  return np.add.reduce(sorted[indexer] * weights, axis=axis) / sumval\n"
     ]
    },
    {
     "data": {
      "image/png": "[encoded data removed]",
      "text/plain": [
       "<Figure size 432x288 with 1 Axes>"
      ]
     },
     "metadata": {
      "needs_background": "light"
     },
     "output_type": "display_data"
    }
   ],
   "source": [
    "plot_dist('w_1stWon%', 'l_1stWon%', '% first serve points won')"
   ]
  },
  {
   "cell_type": "code",
   "execution_count": 10,
   "metadata": {},
   "outputs": [
    {
     "name": "stderr",
     "output_type": "stream",
     "text": [
      "/Users/raguvirkunani/anaconda3/lib/python3.7/site-packages/scipy/stats/stats.py:1713: FutureWarning: Using a non-tuple sequence for multidimensional indexing is deprecated; use `arr[tuple(seq)]` instead of `arr[seq]`. In the future this will be interpreted as an array index, `arr[np.array(seq)]`, which will result either in an error or a different result.\n",
      "  return np.add.reduce(sorted[indexer] * weights, axis=axis) / sumval\n"
     ]
    },
    {
     "data": {
      "image/png": "[encoded data removed]",
      "text/plain": [
       "<Figure size 432x288 with 1 Axes>"
      ]
     },
     "metadata": {
      "needs_background": "light"
     },
     "output_type": "display_data"
    }
   ],
   "source": [
    "plot_dist('w_2ndWon%', 'l_2ndWon%', '% second serve points won')"
   ]
  },
  {
   "cell_type": "code",
   "execution_count": 11,
   "metadata": {},
   "outputs": [
    {
     "name": "stderr",
     "output_type": "stream",
     "text": [
      "/Users/raguvirkunani/anaconda3/lib/python3.7/site-packages/statsmodels/nonparametric/kde.py:448: RuntimeWarning: invalid value encountered in greater\n",
      "  X = X[np.logical_and(X > clip[0], X < clip[1])] # won't work for two columns.\n",
      "/Users/raguvirkunani/anaconda3/lib/python3.7/site-packages/statsmodels/nonparametric/kde.py:448: RuntimeWarning: invalid value encountered in less\n",
      "  X = X[np.logical_and(X > clip[0], X < clip[1])] # won't work for two columns.\n",
      "/Users/raguvirkunani/anaconda3/lib/python3.7/site-packages/scipy/stats/stats.py:1713: FutureWarning: Using a non-tuple sequence for multidimensional indexing is deprecated; use `arr[tuple(seq)]` instead of `arr[seq]`. In the future this will be interpreted as an array index, `arr[np.array(seq)]`, which will result either in an error or a different result.\n",
      "  return np.add.reduce(sorted[indexer] * weights, axis=axis) / sumval\n"
     ]
    },
    {
     "data": {
      "image/png": "[encoded data removed]",
      "text/plain": [
       "<Figure size 432x288 with 1 Axes>"
      ]
     },
     "metadata": {
      "needs_background": "light"
     },
     "output_type": "display_data"
    }
   ],
   "source": [
    "plot_dist('w_bpSaved%', 'l_bpSaved%', '% break points saved')"
   ]
  },
  {
   "cell_type": "code",
   "execution_count": 12,
   "metadata": {},
   "outputs": [
    {
     "name": "stderr",
     "output_type": "stream",
     "text": [
      "/Users/raguvirkunani/anaconda3/lib/python3.7/site-packages/scipy/stats/stats.py:1713: FutureWarning: Using a non-tuple sequence for multidimensional indexing is deprecated; use `arr[tuple(seq)]` instead of `arr[seq]`. In the future this will be interpreted as an array index, `arr[np.array(seq)]`, which will result either in an error or a different result.\n",
      "  return np.add.reduce(sorted[indexer] * weights, axis=axis) / sumval\n"
     ]
    },
    {
     "data": {
      "image/png": "[encoded data removed]",
      "text/plain": [
       "<Figure size 432x288 with 1 Axes>"
      ]
     },
     "metadata": {
      "needs_background": "light"
     },
     "output_type": "display_data"
    }
   ],
   "source": [
    "plot_dist('w_bpFaced%', 'l_bpFaced%', '% break points faced')"
   ]
  },
  {
   "cell_type": "markdown",
   "metadata": {},
   "source": [
    "In any professional sport, especially professional tennis, the margin between victory and defeat is small. Therefore, I believe it is reasonable to say that if the difference between the peaks of the distribution of a match statistic for winners vs. losers is near 10% or above, then that match statistic is likely to be a good candidate for a strong feature in our model. Based on this reasoning, it seems the `% aces`, `% first serve points won`, and `% second serve points won` will likely be strong features. `% break points faced` may be a good feature, as the difference between the peaks of the distribution is around 5%. The distribution of `% break points saved` is not smooth due to undefined values when a player does not face a break point, but from domain knowledge I expect `% break points saved` to be a strong feature."
   ]
  },
  {
   "cell_type": "markdown",
   "metadata": {},
   "source": [
    "Because we are going to use `% break points saved` as a feature, we have to plug in a replacement value for when the `% break points saved` is `NaN` (undefined). Normally, 0 is a good candidate, but 0 does not make sense here because it means that the player saved none of the break points they faced. However, for the `% break points saved` to be undefined, the player had to have faced ***no*** break points. If a player does not face any break points, it does not make sense to penalize them by saying they saved 0% of their break points. Rather, it seems fair to reward them by saying they saved 100% of their break points."
   ]
  },
  {
   "cell_type": "code",
   "execution_count": 13,
   "metadata": {},
   "outputs": [],
   "source": [
    "def replace_nan_bp(data):\n",
    "    data['w_bpSaved%'].replace(to_replace=np.NaN, value=1, inplace=True)\n",
    "    data['l_bpSaved%'].replace(to_replace=np.NaN, value=1, inplace=True)"
   ]
  },
  {
   "cell_type": "code",
   "execution_count": 14,
   "metadata": {},
   "outputs": [],
   "source": [
    "replace_nan_bp(match_2018_train_df)"
   ]
  },
  {
   "cell_type": "markdown",
   "metadata": {},
   "source": [
    "# Setting Up for Feature Engineering Part 2"
   ]
  },
  {
   "cell_type": "markdown",
   "metadata": {},
   "source": [
    "## Filtering the Training Data"
   ]
  },
  {
   "cell_type": "markdown",
   "metadata": {},
   "source": [
    "In general, training data has to consist of data representative of the same population as the input we are trying to make predictions about. In this context, what that means is if we are, for example, trying to predict the outcome of a match between Roger Federer and Rafael Nadal, our training data should consist of all matches played by Federer OR all matches played by Nadal. Therefore, each player in the dataset will have their own model that predicts their performance against an opponent. From this point forward, I will be constructing the model for Roger Federer to illustrate my thought process through developing the model."
   ]
  },
  {
   "cell_type": "code",
   "execution_count": 15,
   "metadata": {},
   "outputs": [],
   "source": [
    "def get_matches_for_player(data, player):\n",
    "    \"\"\"Returns a DataFrame containing all matches in DATA in which PLAYER played.\"\"\"\n",
    "    return data[(data['winner_name'] == player) | (data['loser_name'] == player)]"
   ]
  },
  {
   "cell_type": "code",
   "execution_count": 16,
   "metadata": {},
   "outputs": [
    {
     "data": {
      "text/html": [
       "<div>\n",
       "<style scoped>\n",
       "    .dataframe tbody tr th:only-of-type {\n",
       "        vertical-align: middle;\n",
       "    }\n",
       "\n",
       "    .dataframe tbody tr th {\n",
       "        vertical-align: top;\n",
       "    }\n",
       "\n",
       "    .dataframe thead th {\n",
       "        text-align: right;\n",
       "    }\n",
       "</style>\n",
       "<table border=\"1\" class=\"dataframe\">\n",
       "  <thead>\n",
       "    <tr style=\"text-align: right;\">\n",
       "      <th></th>\n",
       "      <th>tourney_id</th>\n",
       "      <th>tourney_name</th>\n",
       "      <th>surface</th>\n",
       "      <th>draw_size</th>\n",
       "      <th>tourney_level</th>\n",
       "      <th>tourney_date</th>\n",
       "      <th>match_num</th>\n",
       "      <th>winner_id</th>\n",
       "      <th>winner_name</th>\n",
       "      <th>winner_hand</th>\n",
       "      <th>...</th>\n",
       "      <th>w_1stIn%</th>\n",
       "      <th>l_1stIn%</th>\n",
       "      <th>w_1stWon%</th>\n",
       "      <th>l_1stWon%</th>\n",
       "      <th>w_2ndWon%</th>\n",
       "      <th>l_2ndWon%</th>\n",
       "      <th>w_bpSaved%</th>\n",
       "      <th>l_bpSaved%</th>\n",
       "      <th>w_bpFaced%</th>\n",
       "      <th>l_bpFaced%</th>\n",
       "    </tr>\n",
       "  </thead>\n",
       "  <tbody>\n",
       "    <tr>\n",
       "      <th>1978</th>\n",
       "      <td>2018-M024</td>\n",
       "      <td>Cincinnati Masters</td>\n",
       "      <td>Hard</td>\n",
       "      <td>64</td>\n",
       "      <td>M</td>\n",
       "      <td>2018-08-13</td>\n",
       "      <td>300</td>\n",
       "      <td>104925</td>\n",
       "      <td>Novak Djokovic</td>\n",
       "      <td>R</td>\n",
       "      <td>...</td>\n",
       "      <td>0.660377</td>\n",
       "      <td>0.584416</td>\n",
       "      <td>0.714286</td>\n",
       "      <td>0.666667</td>\n",
       "      <td>0.777778</td>\n",
       "      <td>0.468750</td>\n",
       "      <td>0.00</td>\n",
       "      <td>0.500000</td>\n",
       "      <td>0.018868</td>\n",
       "      <td>0.077922</td>\n",
       "    </tr>\n",
       "    <tr>\n",
       "      <th>1393</th>\n",
       "      <td>2018-0321</td>\n",
       "      <td>Stuttgart</td>\n",
       "      <td>Grass</td>\n",
       "      <td>32</td>\n",
       "      <td>A</td>\n",
       "      <td>2018-06-11</td>\n",
       "      <td>293</td>\n",
       "      <td>103819</td>\n",
       "      <td>Roger Federer</td>\n",
       "      <td>R</td>\n",
       "      <td>...</td>\n",
       "      <td>0.676056</td>\n",
       "      <td>0.590909</td>\n",
       "      <td>0.750000</td>\n",
       "      <td>0.653846</td>\n",
       "      <td>0.565217</td>\n",
       "      <td>0.527778</td>\n",
       "      <td>0.60</td>\n",
       "      <td>0.600000</td>\n",
       "      <td>0.070423</td>\n",
       "      <td>0.113636</td>\n",
       "    </tr>\n",
       "    <tr>\n",
       "      <th>610</th>\n",
       "      <td>2018-M006</td>\n",
       "      <td>Indian Wells Masters</td>\n",
       "      <td>Hard</td>\n",
       "      <td>128</td>\n",
       "      <td>M</td>\n",
       "      <td>2018-03-05</td>\n",
       "      <td>300</td>\n",
       "      <td>105223</td>\n",
       "      <td>Juan Martin Del Potro</td>\n",
       "      <td>R</td>\n",
       "      <td>...</td>\n",
       "      <td>0.626087</td>\n",
       "      <td>0.608696</td>\n",
       "      <td>0.750000</td>\n",
       "      <td>0.742857</td>\n",
       "      <td>0.674419</td>\n",
       "      <td>0.533333</td>\n",
       "      <td>0.75</td>\n",
       "      <td>0.600000</td>\n",
       "      <td>0.034783</td>\n",
       "      <td>0.043478</td>\n",
       "    </tr>\n",
       "    <tr>\n",
       "      <th>736</th>\n",
       "      <td>2018-M007</td>\n",
       "      <td>Miami Masters</td>\n",
       "      <td>Hard</td>\n",
       "      <td>128</td>\n",
       "      <td>M</td>\n",
       "      <td>2018-03-19</td>\n",
       "      <td>269</td>\n",
       "      <td>106423</td>\n",
       "      <td>Thanasi Kokkinakis</td>\n",
       "      <td>R</td>\n",
       "      <td>...</td>\n",
       "      <td>0.518182</td>\n",
       "      <td>0.654762</td>\n",
       "      <td>0.771930</td>\n",
       "      <td>0.818182</td>\n",
       "      <td>0.547170</td>\n",
       "      <td>0.551724</td>\n",
       "      <td>0.80</td>\n",
       "      <td>0.666667</td>\n",
       "      <td>0.045455</td>\n",
       "      <td>0.035714</td>\n",
       "    </tr>\n",
       "    <tr>\n",
       "      <th>1389</th>\n",
       "      <td>2018-0321</td>\n",
       "      <td>Stuttgart</td>\n",
       "      <td>Grass</td>\n",
       "      <td>32</td>\n",
       "      <td>A</td>\n",
       "      <td>2018-06-11</td>\n",
       "      <td>297</td>\n",
       "      <td>103819</td>\n",
       "      <td>Roger Federer</td>\n",
       "      <td>R</td>\n",
       "      <td>...</td>\n",
       "      <td>0.625000</td>\n",
       "      <td>0.649123</td>\n",
       "      <td>0.828571</td>\n",
       "      <td>0.648649</td>\n",
       "      <td>0.714286</td>\n",
       "      <td>0.700000</td>\n",
       "      <td>1.00</td>\n",
       "      <td>0.666667</td>\n",
       "      <td>0.035714</td>\n",
       "      <td>0.105263</td>\n",
       "    </tr>\n",
       "  </tbody>\n",
       "</table>\n",
       "<p>5 rows × 57 columns</p>\n",
       "</div>"
      ],
      "text/plain": [
       "     tourney_id          tourney_name surface  draw_size tourney_level  \\\n",
       "1978  2018-M024    Cincinnati Masters    Hard         64             M   \n",
       "1393  2018-0321             Stuttgart   Grass         32             A   \n",
       "610   2018-M006  Indian Wells Masters    Hard        128             M   \n",
       "736   2018-M007         Miami Masters    Hard        128             M   \n",
       "1389  2018-0321             Stuttgart   Grass         32             A   \n",
       "\n",
       "     tourney_date  match_num  winner_id            winner_name winner_hand  \\\n",
       "1978   2018-08-13        300     104925         Novak Djokovic           R   \n",
       "1393   2018-06-11        293     103819          Roger Federer           R   \n",
       "610    2018-03-05        300     105223  Juan Martin Del Potro           R   \n",
       "736    2018-03-19        269     106423     Thanasi Kokkinakis           R   \n",
       "1389   2018-06-11        297     103819          Roger Federer           R   \n",
       "\n",
       "         ...      w_1stIn%  l_1stIn%  w_1stWon%  l_1stWon%  w_2ndWon%  \\\n",
       "1978     ...      0.660377  0.584416   0.714286   0.666667   0.777778   \n",
       "1393     ...      0.676056  0.590909   0.750000   0.653846   0.565217   \n",
       "610      ...      0.626087  0.608696   0.750000   0.742857   0.674419   \n",
       "736      ...      0.518182  0.654762   0.771930   0.818182   0.547170   \n",
       "1389     ...      0.625000  0.649123   0.828571   0.648649   0.714286   \n",
       "\n",
       "     l_2ndWon% w_bpSaved% l_bpSaved%  w_bpFaced%  l_bpFaced%  \n",
       "1978  0.468750       0.00   0.500000    0.018868    0.077922  \n",
       "1393  0.527778       0.60   0.600000    0.070423    0.113636  \n",
       "610   0.533333       0.75   0.600000    0.034783    0.043478  \n",
       "736   0.551724       0.80   0.666667    0.045455    0.035714  \n",
       "1389  0.700000       1.00   0.666667    0.035714    0.105263  \n",
       "\n",
       "[5 rows x 57 columns]"
      ]
     },
     "execution_count": 16,
     "metadata": {},
     "output_type": "execute_result"
    }
   ],
   "source": [
    "fed_2018 = get_matches_for_player(match_2018_train_df, \"Roger Federer\")\n",
    "fed_2018.head()"
   ]
  },
  {
   "cell_type": "code",
   "execution_count": 17,
   "metadata": {},
   "outputs": [],
   "source": [
    "assert fed_2018[fed_2018['winner_name'] == \"Roger Federer\"].shape == match_2018_train_df[match_2018_train_df[\"winner_name\"] == \"Roger Federer\"].shape\n",
    "assert fed_2018[fed_2018['loser_name'] == \"Roger Federer\"].shape == match_2018_train_df[match_2018_train_df[\"loser_name\"] == \"Roger Federer\"].shape"
   ]
  },
  {
   "cell_type": "markdown",
   "metadata": {},
   "source": [
    "## Adding a Variable to Predict"
   ]
  },
  {
   "cell_type": "markdown",
   "metadata": {},
   "source": [
    "Since our ultimate goal is to predict the outcome of a match, we need to have a binary variable representing whether the match resulted in a win or a loss for a given player. This binary variable will the variable we will try to predict with our model."
   ]
  },
  {
   "cell_type": "code",
   "execution_count": 18,
   "metadata": {},
   "outputs": [],
   "source": [
    "def add_win_loss(data, player):\n",
    "    data['result'] = data['winner_name'].apply(lambda w: 1 if w == player else 0)"
   ]
  },
  {
   "cell_type": "code",
   "execution_count": 19,
   "metadata": {},
   "outputs": [
    {
     "name": "stderr",
     "output_type": "stream",
     "text": [
      "/Users/raguvirkunani/anaconda3/lib/python3.7/site-packages/ipykernel_launcher.py:2: SettingWithCopyWarning: \n",
      "A value is trying to be set on a copy of a slice from a DataFrame.\n",
      "Try using .loc[row_indexer,col_indexer] = value instead\n",
      "\n",
      "See the caveats in the documentation: http://pandas.pydata.org/pandas-docs/stable/indexing.html#indexing-view-versus-copy\n",
      "  \n"
     ]
    }
   ],
   "source": [
    "add_win_loss(fed_2018, \"Roger Federer\")"
   ]
  },
  {
   "cell_type": "code",
   "execution_count": 20,
   "metadata": {},
   "outputs": [
    {
     "data": {
      "text/plain": [
       "1    33\n",
       "0     6\n",
       "Name: result, dtype: int64"
      ]
     },
     "execution_count": 20,
     "metadata": {},
     "output_type": "execute_result"
    }
   ],
   "source": [
    "fed_2018['result'].value_counts()"
   ]
  },
  {
   "cell_type": "code",
   "execution_count": 21,
   "metadata": {},
   "outputs": [],
   "source": [
    "assert fed_2018['result'].value_counts()[1] == match_2018_train_df[match_2018_train_df[\"winner_name\"] == \"Roger Federer\"].shape[0]\n",
    "assert fed_2018['result'].value_counts()[0] == match_2018_train_df[match_2018_train_df[\"loser_name\"] == \"Roger Federer\"].shape[0]"
   ]
  },
  {
   "cell_type": "markdown",
   "metadata": {},
   "source": [
    "# Feature Engineering Part 2"
   ]
  },
  {
   "cell_type": "markdown",
   "metadata": {},
   "source": [
    "There are other features which are not directly captured by the dataset that I believe will be useful in predicting the outcome of match."
   ]
  },
  {
   "cell_type": "markdown",
   "metadata": {},
   "source": [
    "## Win Streak"
   ]
  },
  {
   "cell_type": "markdown",
   "metadata": {},
   "source": [
    "I define win streak as the number of consecutive wins a player has coming into a match. In other words, if match $X$ occurs on day $Y$, the win streak of player $Z$ is the number of consecutive wins player $Z$ has starting with match $X-1$ in the matches {$X-1, X-2, ..., 1$} (where all matches $<X$ occur before day $Y$) if player $Z$ won match $X-1$. If player $Z$ lost match $X-1$, player $Z$'s win streak is $0$. For example, if I played $4$ matches and the outcomes were {Win, Loss, Win, Win}, then my win streak heading into match $5$ is $2$."
   ]
  },
  {
   "cell_type": "markdown",
   "metadata": {},
   "source": [
    "To compute the win streak, I sort the matches chronologically, convert the results into a string of 0's and 1's, and compute the length of the streak of 1's at the end, if there is a 1 at the end."
   ]
  },
  {
   "cell_type": "code",
   "execution_count": 22,
   "metadata": {},
   "outputs": [],
   "source": [
    "def compute_win_streak(results):\n",
    "    result_string = results.apply(lambda x: str(x)).str.cat()\n",
    "    streak = re.findall(r\"1+$\", result_string)\n",
    "    if not streak:\n",
    "        return 0\n",
    "    else:\n",
    "        return len(streak[0])"
   ]
  },
  {
   "cell_type": "code",
   "execution_count": 23,
   "metadata": {},
   "outputs": [],
   "source": [
    "def add_win_streak(data):\n",
    "    \"\"\"Adds a column to DATA containing the win streak for every match. Also sorts DATA chronologically.\"\"\"\n",
    "    data.sort_values(by=['tourney_date', 'match_num'], inplace=True)\n",
    "    result = data['result']\n",
    "    streaks = []\n",
    "    for i in range(1, len(result)+1):\n",
    "        so_far = result.iloc[:i]\n",
    "        streaks.append(compute_win_streak(so_far))\n",
    "    data['win_streak'] = pd.Series(streaks, index=data.index)"
   ]
  },
  {
   "cell_type": "code",
   "execution_count": 24,
   "metadata": {},
   "outputs": [
    {
     "name": "stderr",
     "output_type": "stream",
     "text": [
      "/Users/raguvirkunani/anaconda3/lib/python3.7/site-packages/ipykernel_launcher.py:3: SettingWithCopyWarning: \n",
      "A value is trying to be set on a copy of a slice from a DataFrame\n",
      "\n",
      "See the caveats in the documentation: http://pandas.pydata.org/pandas-docs/stable/indexing.html#indexing-view-versus-copy\n",
      "  This is separate from the ipykernel package so we can avoid doing imports until\n",
      "/Users/raguvirkunani/anaconda3/lib/python3.7/site-packages/ipykernel_launcher.py:9: SettingWithCopyWarning: \n",
      "A value is trying to be set on a copy of a slice from a DataFrame.\n",
      "Try using .loc[row_indexer,col_indexer] = value instead\n",
      "\n",
      "See the caveats in the documentation: http://pandas.pydata.org/pandas-docs/stable/indexing.html#indexing-view-versus-copy\n",
      "  if __name__ == '__main__':\n"
     ]
    }
   ],
   "source": [
    "add_win_streak(fed_2018)"
   ]
  },
  {
   "cell_type": "code",
   "execution_count": 25,
   "metadata": {},
   "outputs": [],
   "source": [
    "assert fed_2018['win_streak'].min() >= 0 and fed_2018['win_streak'].max() <= fed_2018.shape[0]"
   ]
  },
  {
   "cell_type": "markdown",
   "metadata": {},
   "source": [
    "## Head to Head"
   ]
  },
  {
   "cell_type": "markdown",
   "metadata": {},
   "source": [
    "I define head to head for player $X$ against $Y$ as the percentage of matches player $X$ has won against player $Y$. For each match, I compute the head to head for player $X$ against the opponent  considering all matches in the training set chronologically before that match."
   ]
  },
  {
   "cell_type": "code",
   "execution_count": 26,
   "metadata": {},
   "outputs": [],
   "source": [
    "def compute_head_to_head(data, row, player):\n",
    "    match_date = row['tourney_date']\n",
    "    if row['winner_name'] == player:\n",
    "        other_player = row['loser_name']\n",
    "    else:\n",
    "        other_player = row['winner_name']\n",
    "    head_to_head_matches = data[((data['winner_name'] == other_player) | (data['loser_name'] == other_player))\n",
    "                               & (data['tourney_date'] <= match_date)]\n",
    "    total_matches = head_to_head_matches.shape[0]\n",
    "    player_wins = head_to_head_matches[head_to_head_matches['winner_name'] == player].shape[0]\n",
    "    return player_wins/total_matches\n",
    "\n",
    "def add_head_to_head(data):\n",
    "    data['head_to_head'] = data.apply(lambda row: compute_head_to_head(data, row, \"Roger Federer\"), axis=1)"
   ]
  },
  {
   "cell_type": "code",
   "execution_count": 27,
   "metadata": {},
   "outputs": [
    {
     "name": "stderr",
     "output_type": "stream",
     "text": [
      "/Users/raguvirkunani/anaconda3/lib/python3.7/site-packages/ipykernel_launcher.py:14: SettingWithCopyWarning: \n",
      "A value is trying to be set on a copy of a slice from a DataFrame.\n",
      "Try using .loc[row_indexer,col_indexer] = value instead\n",
      "\n",
      "See the caveats in the documentation: http://pandas.pydata.org/pandas-docs/stable/indexing.html#indexing-view-versus-copy\n",
      "  \n"
     ]
    }
   ],
   "source": [
    "add_head_to_head(fed_2018)"
   ]
  },
  {
   "cell_type": "code",
   "execution_count": 28,
   "metadata": {},
   "outputs": [],
   "source": [
    "assert fed_2018['head_to_head'].max() <= 1 and fed_2018['head_to_head'].min() >= 0"
   ]
  },
  {
   "cell_type": "markdown",
   "metadata": {},
   "source": [
    "## Opponent Hand"
   ]
  },
  {
   "cell_type": "code",
   "execution_count": 29,
   "metadata": {},
   "outputs": [],
   "source": [
    "def get_opponent_hand(row, player):\n",
    "    if row['winner_name'] == player:\n",
    "        return row['loser_hand']\n",
    "    else:\n",
    "        return row['winner_hand']\n",
    "\n",
    "\n",
    "def add_opponent_hand(data):\n",
    "    data['opponent_hand'] = data.apply(lambda row: get_opponent_hand(row, \"Roger Federer\"), axis=1)\n",
    "    return pd.get_dummies(data, columns=['opponent_hand'])"
   ]
  },
  {
   "cell_type": "code",
   "execution_count": 30,
   "metadata": {},
   "outputs": [
    {
     "name": "stderr",
     "output_type": "stream",
     "text": [
      "/Users/raguvirkunani/anaconda3/lib/python3.7/site-packages/ipykernel_launcher.py:9: SettingWithCopyWarning: \n",
      "A value is trying to be set on a copy of a slice from a DataFrame.\n",
      "Try using .loc[row_indexer,col_indexer] = value instead\n",
      "\n",
      "See the caveats in the documentation: http://pandas.pydata.org/pandas-docs/stable/indexing.html#indexing-view-versus-copy\n",
      "  if __name__ == '__main__':\n"
     ]
    }
   ],
   "source": [
    "fed_2018 = add_opponent_hand(fed_2018)"
   ]
  },
  {
   "cell_type": "markdown",
   "metadata": {},
   "source": [
    "# Estimating Features"
   ]
  },
  {
   "cell_type": "markdown",
   "metadata": {},
   "source": [
    "In Feature Selection / Engineering Part 1, we determined that `% aces`, `% first serve points won`, and `% second serve points won` and `% break points saved` will likely be strong features and `% break points faced` may be a good feature. It is important to note that these features are the statistics for a match. When we try to predict the outcome of a future match, we don't know the values of these features because the match has not happened yet. Therefore, we have to use estimates of the values of the features. Specifically, we will use the average of the feature over the training data for a given player as the estimate. For example, to estimate Federer's `% first serve points won` in a match, we will use Federer's average `% first serve points won` over the training data."
   ]
  },
  {
   "cell_type": "code",
   "execution_count": 31,
   "metadata": {},
   "outputs": [],
   "source": [
    "def get_stat(row, statistic, player):\n",
    "    if row['winner_name'] == player:\n",
    "        return row['w_'+statistic]\n",
    "    else:\n",
    "        return row['l_'+statistic]\n",
    "\n",
    "def get_estimate(data, statistic, player):\n",
    "    player_data = get_matches_for_player(data, player)\n",
    "    s = player_data.apply(lambda row: get_stat(row, statistic, player), axis=1)\n",
    "    return s.mean()"
   ]
  },
  {
   "cell_type": "code",
   "execution_count": 32,
   "metadata": {},
   "outputs": [
    {
     "data": {
      "text/plain": [
       "0.8186555079024672"
      ]
     },
     "execution_count": 32,
     "metadata": {},
     "output_type": "execute_result"
    }
   ],
   "source": [
    "get_estimate(fed_2018, '1stWon%', \"Roger Federer\")"
   ]
  },
  {
   "cell_type": "markdown",
   "metadata": {},
   "source": [
    "# Saving the Data"
   ]
  },
  {
   "cell_type": "markdown",
   "metadata": {},
   "source": [
    "Since these notebooks are meant to show my thought process of making the model by actually making Roger Federer's model, I will save Federer's data."
   ]
  },
  {
   "cell_type": "code",
   "execution_count": 33,
   "metadata": {},
   "outputs": [],
   "source": [
    "data_file = Path('./data', 'fed_2018.hdf')\n",
    "fed_2018.to_hdf(data_file, 'fed_2018')"
   ]
  }
 ],
 "metadata": {
  "kernelspec": {
   "display_name": "Python 3",
   "language": "python",
   "name": "python3"
  },
  "language_info": {
   "codemirror_mode": {
    "name": "ipython",
    "version": 3
   },
   "file_extension": ".py",
   "mimetype": "text/x-python",
   "name": "python",
   "nbconvert_exporter": "python",
   "pygments_lexer": "ipython3",
   "version": "3.7.0"
  }
 },
 "nbformat": 4,
 "nbformat_minor": 2
}
