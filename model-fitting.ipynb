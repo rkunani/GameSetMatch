{
 "cells": [
  {
   "cell_type": "code",
   "execution_count": 1,
   "metadata": {},
   "outputs": [],
   "source": [
    "import pandas as pd\n",
    "from pathlib import Path\n",
    "import sklearn.linear_model as lm"
   ]
  },
  {
   "cell_type": "markdown",
   "metadata": {},
   "source": [
    "# Loading in Data and Functions"
   ]
  },
  {
   "cell_type": "markdown",
   "metadata": {},
   "source": [
    "Since we're making the model for Roger Federer, let's load in his data from `feature-engineering.ipynb`."
   ]
  },
  {
   "cell_type": "code",
   "execution_count": 2,
   "metadata": {},
   "outputs": [
    {
     "data": {
      "text/html": [
       "<div>\n",
       "<style scoped>\n",
       "    .dataframe tbody tr th:only-of-type {\n",
       "        vertical-align: middle;\n",
       "    }\n",
       "\n",
       "    .dataframe tbody tr th {\n",
       "        vertical-align: top;\n",
       "    }\n",
       "\n",
       "    .dataframe thead th {\n",
       "        text-align: right;\n",
       "    }\n",
       "</style>\n",
       "<table border=\"1\" class=\"dataframe\">\n",
       "  <thead>\n",
       "    <tr style=\"text-align: right;\">\n",
       "      <th></th>\n",
       "      <th>tourney_id</th>\n",
       "      <th>tourney_name</th>\n",
       "      <th>surface</th>\n",
       "      <th>draw_size</th>\n",
       "      <th>tourney_level</th>\n",
       "      <th>tourney_date</th>\n",
       "      <th>match_num</th>\n",
       "      <th>winner_id</th>\n",
       "      <th>winner_name</th>\n",
       "      <th>winner_hand</th>\n",
       "      <th>...</th>\n",
       "      <th>player_1stIn%</th>\n",
       "      <th>opp_1stIn%</th>\n",
       "      <th>player_1stWon%</th>\n",
       "      <th>opp_1stWon%</th>\n",
       "      <th>player_2ndWon%</th>\n",
       "      <th>opp_2ndWon%</th>\n",
       "      <th>player_bpSaved%</th>\n",
       "      <th>opp_bpSaved%</th>\n",
       "      <th>player_bpFaced%</th>\n",
       "      <th>opp_bpFaced%</th>\n",
       "    </tr>\n",
       "  </thead>\n",
       "  <tbody>\n",
       "    <tr>\n",
       "      <th>202</th>\n",
       "      <td>2018-580</td>\n",
       "      <td>Australian Open</td>\n",
       "      <td>Hard</td>\n",
       "      <td>128</td>\n",
       "      <td>G</td>\n",
       "      <td>2018-01-15</td>\n",
       "      <td>164</td>\n",
       "      <td>103819</td>\n",
       "      <td>Roger Federer</td>\n",
       "      <td>R</td>\n",
       "      <td>...</td>\n",
       "      <td>0.716049</td>\n",
       "      <td>0.555556</td>\n",
       "      <td>0.775862</td>\n",
       "      <td>0.700000</td>\n",
       "      <td>0.608696</td>\n",
       "      <td>0.450000</td>\n",
       "      <td>1.000000</td>\n",
       "      <td>0.692308</td>\n",
       "      <td>0.024691</td>\n",
       "      <td>0.144444</td>\n",
       "    </tr>\n",
       "    <tr>\n",
       "      <th>234</th>\n",
       "      <td>2018-580</td>\n",
       "      <td>Australian Open</td>\n",
       "      <td>Hard</td>\n",
       "      <td>128</td>\n",
       "      <td>G</td>\n",
       "      <td>2018-01-15</td>\n",
       "      <td>232</td>\n",
       "      <td>103819</td>\n",
       "      <td>Roger Federer</td>\n",
       "      <td>R</td>\n",
       "      <td>...</td>\n",
       "      <td>0.576087</td>\n",
       "      <td>0.504673</td>\n",
       "      <td>0.830189</td>\n",
       "      <td>0.759259</td>\n",
       "      <td>0.666667</td>\n",
       "      <td>0.509434</td>\n",
       "      <td>0.666667</td>\n",
       "      <td>0.727273</td>\n",
       "      <td>0.032609</td>\n",
       "      <td>0.102804</td>\n",
       "    </tr>\n",
       "    <tr>\n",
       "      <th>250</th>\n",
       "      <td>2018-580</td>\n",
       "      <td>Australian Open</td>\n",
       "      <td>Hard</td>\n",
       "      <td>128</td>\n",
       "      <td>G</td>\n",
       "      <td>2018-01-15</td>\n",
       "      <td>316</td>\n",
       "      <td>103819</td>\n",
       "      <td>Roger Federer</td>\n",
       "      <td>R</td>\n",
       "      <td>...</td>\n",
       "      <td>0.648936</td>\n",
       "      <td>0.677778</td>\n",
       "      <td>0.803279</td>\n",
       "      <td>0.672131</td>\n",
       "      <td>0.424242</td>\n",
       "      <td>0.413793</td>\n",
       "      <td>0.500000</td>\n",
       "      <td>0.375000</td>\n",
       "      <td>0.021277</td>\n",
       "      <td>0.088889</td>\n",
       "    </tr>\n",
       "    <tr>\n",
       "      <th>258</th>\n",
       "      <td>2018-580</td>\n",
       "      <td>Australian Open</td>\n",
       "      <td>Hard</td>\n",
       "      <td>128</td>\n",
       "      <td>G</td>\n",
       "      <td>2018-01-15</td>\n",
       "      <td>408</td>\n",
       "      <td>103819</td>\n",
       "      <td>Roger Federer</td>\n",
       "      <td>R</td>\n",
       "      <td>...</td>\n",
       "      <td>0.592593</td>\n",
       "      <td>0.527778</td>\n",
       "      <td>0.833333</td>\n",
       "      <td>0.666667</td>\n",
       "      <td>0.757576</td>\n",
       "      <td>0.529412</td>\n",
       "      <td>1.000000</td>\n",
       "      <td>0.700000</td>\n",
       "      <td>0.000000</td>\n",
       "      <td>0.092593</td>\n",
       "    </tr>\n",
       "    <tr>\n",
       "      <th>262</th>\n",
       "      <td>2018-580</td>\n",
       "      <td>Australian Open</td>\n",
       "      <td>Hard</td>\n",
       "      <td>128</td>\n",
       "      <td>G</td>\n",
       "      <td>2018-01-15</td>\n",
       "      <td>504</td>\n",
       "      <td>103819</td>\n",
       "      <td>Roger Federer</td>\n",
       "      <td>R</td>\n",
       "      <td>...</td>\n",
       "      <td>0.625000</td>\n",
       "      <td>0.563830</td>\n",
       "      <td>0.833333</td>\n",
       "      <td>0.698113</td>\n",
       "      <td>0.527778</td>\n",
       "      <td>0.512195</td>\n",
       "      <td>0.600000</td>\n",
       "      <td>0.500000</td>\n",
       "      <td>0.052083</td>\n",
       "      <td>0.085106</td>\n",
       "    </tr>\n",
       "  </tbody>\n",
       "</table>\n",
       "<p>5 rows × 76 columns</p>\n",
       "</div>"
      ],
      "text/plain": [
       "    tourney_id     tourney_name surface  draw_size tourney_level tourney_date  \\\n",
       "202   2018-580  Australian Open    Hard        128             G   2018-01-15   \n",
       "234   2018-580  Australian Open    Hard        128             G   2018-01-15   \n",
       "250   2018-580  Australian Open    Hard        128             G   2018-01-15   \n",
       "258   2018-580  Australian Open    Hard        128             G   2018-01-15   \n",
       "262   2018-580  Australian Open    Hard        128             G   2018-01-15   \n",
       "\n",
       "     match_num  winner_id    winner_name winner_hand      ...       \\\n",
       "202        164     103819  Roger Federer           R      ...        \n",
       "234        232     103819  Roger Federer           R      ...        \n",
       "250        316     103819  Roger Federer           R      ...        \n",
       "258        408     103819  Roger Federer           R      ...        \n",
       "262        504     103819  Roger Federer           R      ...        \n",
       "\n",
       "    player_1stIn%  opp_1stIn%  player_1stWon%  opp_1stWon%  player_2ndWon%  \\\n",
       "202      0.716049    0.555556        0.775862     0.700000        0.608696   \n",
       "234      0.576087    0.504673        0.830189     0.759259        0.666667   \n",
       "250      0.648936    0.677778        0.803279     0.672131        0.424242   \n",
       "258      0.592593    0.527778        0.833333     0.666667        0.757576   \n",
       "262      0.625000    0.563830        0.833333     0.698113        0.527778   \n",
       "\n",
       "    opp_2ndWon% player_bpSaved% opp_bpSaved%  player_bpFaced%  opp_bpFaced%  \n",
       "202    0.450000        1.000000     0.692308         0.024691      0.144444  \n",
       "234    0.509434        0.666667     0.727273         0.032609      0.102804  \n",
       "250    0.413793        0.500000     0.375000         0.021277      0.088889  \n",
       "258    0.529412        1.000000     0.700000         0.000000      0.092593  \n",
       "262    0.512195        0.600000     0.500000         0.052083      0.085106  \n",
       "\n",
       "[5 rows x 76 columns]"
      ]
     },
     "execution_count": 2,
     "metadata": {},
     "output_type": "execute_result"
    }
   ],
   "source": [
    "data_file = Path('./data', 'fed_2018.hdf')\n",
    "fed_2018 = pd.read_hdf(data_file, 'fed_2018')\n",
    "fed_2018.head()"
   ]
  },
  {
   "cell_type": "markdown",
   "metadata": {},
   "source": [
    "We're also going to need the functions we defined in `feature-engineering.ipynb`, so let's \"import\" that notebook."
   ]
  },
  {
   "cell_type": "code",
   "execution_count": 3,
   "metadata": {},
   "outputs": [],
   "source": [
    "%%capture\n",
    "%run data-cleaning.ipynb\n",
    "%run feature-engineering.ipynb"
   ]
  },
  {
   "cell_type": "markdown",
   "metadata": {},
   "source": [
    "# Training and Evaluating the Model"
   ]
  },
  {
   "cell_type": "markdown",
   "metadata": {},
   "source": [
    "We need to create the matrix for training the model. This matrix consists of the features we chose and engineered in `feature-engineering.ipynb`."
   ]
  },
  {
   "cell_type": "code",
   "execution_count": 4,
   "metadata": {},
   "outputs": [],
   "source": [
    "features = ['player_ace%', 'opp_ace%', 'player_df%', 'opp_df%', 'player_1stIn%', 'opp_1stIn%',\n",
    "            'player_1stWon%', 'opp_1stWon%', 'player_2ndWon%', 'opp_2ndWon%', 'player_bpSaved%',\n",
    "            'opp_bpSaved%', 'player_bpFaced%', 'opp_bpFaced%', 'win_streak',\n",
    "            'head_to_head', 'opponent_hand_L', 'opponent_hand_R']"
   ]
  },
  {
   "cell_type": "code",
   "execution_count": 5,
   "metadata": {},
   "outputs": [],
   "source": [
    "def process_data(data):\n",
    "    \"\"\"Executes the feature engineering process on DATA by applying the necessary transformations.\"\"\"\n",
    "    X = (\n",
    "        data\n",
    "            .pipe(convert_match_stats_to_percent)\n",
    "            .pipe(replace_nan_bp)\n",
    "            .pipe(add_win_loss, (\"Roger Federer\"))\n",
    "            .pipe(add_win_streak)\n",
    "            .pipe(add_head_to_head)\n",
    "            .pipe(add_opponent_hand)\n",
    "            .pipe(add_player_v_opponent_stats, (\"Roger Federer\"))\n",
    "    )\n",
    "    return X"
   ]
  },
  {
   "cell_type": "code",
   "execution_count": 6,
   "metadata": {},
   "outputs": [],
   "source": [
    "def make_train_matrix(data, player, test=False):\n",
    "    all_data = clean_data(data)\n",
    "    player_data = get_matches_for_player(all_data, player)\n",
    "    if test:\n",
    "        return (process_data(player_data)[features], process_data(player_data)['result'])\n",
    "    return process_data(player_data)[features]"
   ]
  },
  {
   "cell_type": "code",
   "execution_count": 7,
   "metadata": {},
   "outputs": [],
   "source": [
    "fed_2018_features, fed_2018_results = fed_2018[features], fed_2018['result']"
   ]
  },
  {
   "cell_type": "markdown",
   "metadata": {},
   "source": [
    "## A Note on Evaluating the Model"
   ]
  },
  {
   "cell_type": "markdown",
   "metadata": {},
   "source": [
    "In most cases, the available dataset is randomly split into a set for training the model and a set for testing the model. However, in this case, that approach will not give an reliable evaluation of the model because the values of the `win_streak` and `head_to_head` features rely on the entire dataset (i.e. splitting the dataset results in incorrect values for these 2 features). Therefore, we will instead train the model on Federer's 2017 data and use the model's score on Federer's 2018 data to determine the quality of the model."
   ]
  },
  {
   "cell_type": "code",
   "execution_count": 8,
   "metadata": {},
   "outputs": [
    {
     "name": "stderr",
     "output_type": "stream",
     "text": [
      "/Users/raguvirkunani/anaconda3/lib/python3.7/site-packages/ipykernel_launcher.py:2: SettingWithCopyWarning: \n",
      "A value is trying to be set on a copy of a slice from a DataFrame.\n",
      "Try using .loc[row_indexer,col_indexer] = value instead\n",
      "\n",
      "See the caveats in the documentation: http://pandas.pydata.org/pandas-docs/stable/indexing.html#indexing-view-versus-copy\n",
      "  \n",
      "/Users/raguvirkunani/anaconda3/lib/python3.7/site-packages/ipykernel_launcher.py:3: SettingWithCopyWarning: \n",
      "A value is trying to be set on a copy of a slice from a DataFrame.\n",
      "Try using .loc[row_indexer,col_indexer] = value instead\n",
      "\n",
      "See the caveats in the documentation: http://pandas.pydata.org/pandas-docs/stable/indexing.html#indexing-view-versus-copy\n",
      "  This is separate from the ipykernel package so we can avoid doing imports until\n",
      "/Users/raguvirkunani/anaconda3/lib/python3.7/site-packages/ipykernel_launcher.py:5: SettingWithCopyWarning: \n",
      "A value is trying to be set on a copy of a slice from a DataFrame.\n",
      "Try using .loc[row_indexer,col_indexer] = value instead\n",
      "\n",
      "See the caveats in the documentation: http://pandas.pydata.org/pandas-docs/stable/indexing.html#indexing-view-versus-copy\n",
      "  \"\"\"\n",
      "/Users/raguvirkunani/anaconda3/lib/python3.7/site-packages/ipykernel_launcher.py:6: SettingWithCopyWarning: \n",
      "A value is trying to be set on a copy of a slice from a DataFrame.\n",
      "Try using .loc[row_indexer,col_indexer] = value instead\n",
      "\n",
      "See the caveats in the documentation: http://pandas.pydata.org/pandas-docs/stable/indexing.html#indexing-view-versus-copy\n",
      "  \n",
      "/Users/raguvirkunani/anaconda3/lib/python3.7/site-packages/ipykernel_launcher.py:8: SettingWithCopyWarning: \n",
      "A value is trying to be set on a copy of a slice from a DataFrame.\n",
      "Try using .loc[row_indexer,col_indexer] = value instead\n",
      "\n",
      "See the caveats in the documentation: http://pandas.pydata.org/pandas-docs/stable/indexing.html#indexing-view-versus-copy\n",
      "  \n",
      "/Users/raguvirkunani/anaconda3/lib/python3.7/site-packages/ipykernel_launcher.py:9: SettingWithCopyWarning: \n",
      "A value is trying to be set on a copy of a slice from a DataFrame.\n",
      "Try using .loc[row_indexer,col_indexer] = value instead\n",
      "\n",
      "See the caveats in the documentation: http://pandas.pydata.org/pandas-docs/stable/indexing.html#indexing-view-versus-copy\n",
      "  if __name__ == '__main__':\n",
      "/Users/raguvirkunani/anaconda3/lib/python3.7/site-packages/ipykernel_launcher.py:11: SettingWithCopyWarning: \n",
      "A value is trying to be set on a copy of a slice from a DataFrame.\n",
      "Try using .loc[row_indexer,col_indexer] = value instead\n",
      "\n",
      "See the caveats in the documentation: http://pandas.pydata.org/pandas-docs/stable/indexing.html#indexing-view-versus-copy\n",
      "  # This is added back by InteractiveShellApp.init_path()\n",
      "/Users/raguvirkunani/anaconda3/lib/python3.7/site-packages/ipykernel_launcher.py:12: SettingWithCopyWarning: \n",
      "A value is trying to be set on a copy of a slice from a DataFrame.\n",
      "Try using .loc[row_indexer,col_indexer] = value instead\n",
      "\n",
      "See the caveats in the documentation: http://pandas.pydata.org/pandas-docs/stable/indexing.html#indexing-view-versus-copy\n",
      "  if sys.path[0] == '':\n",
      "/Users/raguvirkunani/anaconda3/lib/python3.7/site-packages/ipykernel_launcher.py:14: SettingWithCopyWarning: \n",
      "A value is trying to be set on a copy of a slice from a DataFrame.\n",
      "Try using .loc[row_indexer,col_indexer] = value instead\n",
      "\n",
      "See the caveats in the documentation: http://pandas.pydata.org/pandas-docs/stable/indexing.html#indexing-view-versus-copy\n",
      "  \n",
      "/Users/raguvirkunani/anaconda3/lib/python3.7/site-packages/ipykernel_launcher.py:15: SettingWithCopyWarning: \n",
      "A value is trying to be set on a copy of a slice from a DataFrame.\n",
      "Try using .loc[row_indexer,col_indexer] = value instead\n",
      "\n",
      "See the caveats in the documentation: http://pandas.pydata.org/pandas-docs/stable/indexing.html#indexing-view-versus-copy\n",
      "  from ipykernel import kernelapp as app\n",
      "/Users/raguvirkunani/anaconda3/lib/python3.7/site-packages/ipykernel_launcher.py:17: SettingWithCopyWarning: \n",
      "A value is trying to be set on a copy of a slice from a DataFrame.\n",
      "Try using .loc[row_indexer,col_indexer] = value instead\n",
      "\n",
      "See the caveats in the documentation: http://pandas.pydata.org/pandas-docs/stable/indexing.html#indexing-view-versus-copy\n",
      "/Users/raguvirkunani/anaconda3/lib/python3.7/site-packages/ipykernel_launcher.py:18: SettingWithCopyWarning: \n",
      "A value is trying to be set on a copy of a slice from a DataFrame.\n",
      "Try using .loc[row_indexer,col_indexer] = value instead\n",
      "\n",
      "See the caveats in the documentation: http://pandas.pydata.org/pandas-docs/stable/indexing.html#indexing-view-versus-copy\n",
      "/Users/raguvirkunani/anaconda3/lib/python3.7/site-packages/ipykernel_launcher.py:20: SettingWithCopyWarning: \n",
      "A value is trying to be set on a copy of a slice from a DataFrame.\n",
      "Try using .loc[row_indexer,col_indexer] = value instead\n",
      "\n",
      "See the caveats in the documentation: http://pandas.pydata.org/pandas-docs/stable/indexing.html#indexing-view-versus-copy\n",
      "/Users/raguvirkunani/anaconda3/lib/python3.7/site-packages/ipykernel_launcher.py:21: SettingWithCopyWarning: \n",
      "A value is trying to be set on a copy of a slice from a DataFrame.\n",
      "Try using .loc[row_indexer,col_indexer] = value instead\n",
      "\n",
      "See the caveats in the documentation: http://pandas.pydata.org/pandas-docs/stable/indexing.html#indexing-view-versus-copy\n",
      "/Users/raguvirkunani/anaconda3/lib/python3.7/site-packages/pandas/core/generic.py:5890: SettingWithCopyWarning: \n",
      "A value is trying to be set on a copy of a slice from a DataFrame\n",
      "\n",
      "See the caveats in the documentation: http://pandas.pydata.org/pandas-docs/stable/indexing.html#indexing-view-versus-copy\n",
      "  self._update_inplace(new_data)\n",
      "/Users/raguvirkunani/anaconda3/lib/python3.7/site-packages/ipykernel_launcher.py:3: SettingWithCopyWarning: \n",
      "A value is trying to be set on a copy of a slice from a DataFrame\n",
      "\n",
      "See the caveats in the documentation: http://pandas.pydata.org/pandas-docs/stable/indexing.html#indexing-view-versus-copy\n",
      "  This is separate from the ipykernel package so we can avoid doing imports until\n"
     ]
    }
   ],
   "source": [
    "fed_2017_train, fed_2017_results = make_train_matrix(pd.read_csv(Path('./data/jeff_sackman_data/atp_matches_2017.csv')), \"Roger Federer\", True)"
   ]
  },
  {
   "cell_type": "markdown",
   "metadata": {},
   "source": [
    "## Training the Model"
   ]
  },
  {
   "cell_type": "markdown",
   "metadata": {},
   "source": [
    "Since we are trying to predict a binary variable, I choose a logistic regression model."
   ]
  },
  {
   "cell_type": "code",
   "execution_count": 9,
   "metadata": {},
   "outputs": [
    {
     "data": {
      "text/plain": [
       "1.0"
      ]
     },
     "execution_count": 9,
     "metadata": {},
     "output_type": "execute_result"
    }
   ],
   "source": [
    "fed_model = lm.LogisticRegression(penalty='l2', C=1.0, fit_intercept=True, multi_class='ovr')\n",
    "fed_model.fit(fed_2017_train, fed_2017_results)\n",
    "fed_model.score(fed_2018_features, fed_2018_results)"
   ]
  },
  {
   "cell_type": "markdown",
   "metadata": {},
   "source": [
    "The above output indicates that the model trained on Federer's 2017 data correctly predicts all of Federer's 2018 match outcomes. Thus, we have strong evidence to believe the model is good. Let's take a look at the coefficients of the trained model to see what features were the strongest."
   ]
  },
  {
   "cell_type": "code",
   "execution_count": 10,
   "metadata": {},
   "outputs": [
    {
     "data": {
      "text/plain": [
       "array([[ 0.03453387, -0.08877613, -0.02458042,  0.01307659, -0.11027405,\n",
       "        -0.14874659, -0.02687958, -0.29519857, -0.08934161, -0.20274061,\n",
       "         0.080021  , -0.2390508 , -0.03268396,  0.04879537,  1.61853159,\n",
       "         0.78727113,  0.17789702, -0.33590054]])"
      ]
     },
     "execution_count": 10,
     "metadata": {},
     "output_type": "execute_result"
    }
   ],
   "source": [
    "fed_model.coef_"
   ]
  },
  {
   "cell_type": "markdown",
   "metadata": {},
   "source": [
    "The coefficients indicate that the win streak and head-to-head features were the strongest in predicting the outcome of the match."
   ]
  }
 ],
 "metadata": {
  "kernelspec": {
   "display_name": "Python 3",
   "language": "python",
   "name": "python3"
  },
  "language_info": {
   "codemirror_mode": {
    "name": "ipython",
    "version": 3
   },
   "file_extension": ".py",
   "mimetype": "text/x-python",
   "name": "python",
   "nbconvert_exporter": "python",
   "pygments_lexer": "ipython3",
   "version": "3.7.0"
  }
 },
 "nbformat": 4,
 "nbformat_minor": 2
}
